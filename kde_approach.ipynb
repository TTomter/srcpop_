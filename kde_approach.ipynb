{
 "cells": [
  {
   "cell_type": "code",
   "execution_count": 5,
   "id": "bed430ad-0f92-4ff4-b5c9-a7aac742cc08",
   "metadata": {
    "tags": []
   },
   "outputs": [
    {
     "data": {
      "text/markdown": [
       "# KDE approach  (DR4)"
      ],
      "text/plain": [
       "<pylib.ipynb_docgen.doc_formatter.<locals>.MimeBundleObject at 0x7fcb664298d0>"
      ]
     },
     "metadata": {},
     "output_type": "display_data"
    },
    {
     "data": {
      "text/markdown": [
       "<h5 style=\"text-align:right; margin-right:15px\"> 2024-07-23 17:56</h5>"
      ],
      "text/plain": [
       "<pylib.ipynb_docgen.doc_formatter.<locals>.MimeBundleObject at 0x7fcb66bf4a90>"
      ]
     },
     "metadata": {},
     "output_type": "display_data"
    },
    {
     "data": {
      "text/markdown": [
       "Not applying ML, so no class fits to generate prediction model. Instead we compute KDE probability density distributions\n",
       "for the ML trainers, which we then apply to the unID and bcu associations."
      ],
      "text/plain": [
       "<pylib.ipynb_docgen.doc_formatter.<locals>.MimeBundleObject at 0x7fcb66760050>"
      ]
     },
     "metadata": {},
     "output_type": "display_data"
    },
    {
     "data": {
      "text/html": [
       "<details open class=\"nbdoc-description\" >  <summary> Setup: </summary>  <div style=\"margin-left: 25px;\"><pre>Loaded Fermi 4FGL gll_psc_dr4.fit: 6659 entries<br>Remove 218 without valid r95 or variability or significance&gt;4<br>            -&gt; 6441 remain<br>Loaded Fermi 4FGL gll_psc_dr3.fit: 6659 entries<br>Apply DR3 LP values for all but 0 sources.<br></pre></div> </details>"
      ],
      "text/plain": [
       "<pylib.ipynb_docgen.doc_formatter.<locals>.MimeBundleObject at 0x7fcb664f2710>"
      ]
     },
     "metadata": {},
     "output_type": "display_data"
    },
    {
     "data": {
      "text/markdown": [
       "### Data selection cut: \"0.15<Ep<4 & variability<25\""
      ],
      "text/plain": [
       "<pylib.ipynb_docgen.doc_formatter.<locals>.MimeBundleObject at 0x7fcb664f2c10>"
      ]
     },
     "metadata": {},
     "output_type": "display_data"
    },
    {
     "data": {
      "text/html": [
       "<div style=\"margin-left: 25px\"><table border=\"1\" class=\"dataframe\">\n",
       "  <thead>\n",
       "    <tr style=\"text-align: right;\">\n",
       "      <th>association_class</th>\n",
       "      <th>blazar</th>\n",
       "      <th>pulsar</th>\n",
       "      <th>Gal</th>\n",
       "      <th>egal</th>\n",
       "      <th>unID</th>\n",
       "    </tr>\n",
       "  </thead>\n",
       "  <tbody>\n",
       "    <tr>\n",
       "      <th>total</th>\n",
       "      <td>2235</td>\n",
       "      <td>290</td>\n",
       "      <td>214</td>\n",
       "      <td>79</td>\n",
       "      <td>3623</td>\n",
       "    </tr>\n",
       "    <tr>\n",
       "      <th>selected</th>\n",
       "      <td>320</td>\n",
       "      <td>280</td>\n",
       "      <td>159</td>\n",
       "      <td>26</td>\n",
       "      <td>1879</td>\n",
       "    </tr>\n",
       "    <tr>\n",
       "      <th>%</th>\n",
       "      <td>14</td>\n",
       "      <td>97</td>\n",
       "      <td>74</td>\n",
       "      <td>33</td>\n",
       "      <td>52</td>\n",
       "    </tr>\n",
       "  </tbody>\n",
       "</table></div>"
      ],
      "text/plain": [
       "<pylib.ipynb_docgen.doc_formatter.<locals>.MimeBundleObject at 0x7fcb664f3dd0>"
      ]
     },
     "metadata": {},
     "output_type": "display_data"
    },
    {
     "data": {
      "text/markdown": [
       "## Create KDE functions instead of ML training\n",
       "* Classes: psr, msp, blazar\n",
       "* Features: sqrt_d, log_epeak, diffuse \n",
       "\n",
       "Apply to unIDs + bcus"
      ],
      "text/plain": [
       "<pylib.ipynb_docgen.doc_formatter.<locals>.MimeBundleObject at 0x7fcb664f1a10>"
      ]
     },
     "metadata": {},
     "output_type": "display_data"
    },
    {
     "name": "stdout",
     "output_type": "stream",
     "text": [
      "Unexpected exception formatting exception. Falling back to standard exception\n"
     ]
    },
    {
     "name": "stderr",
     "output_type": "stream",
     "text": [
      "array must not contain infs or NaNs\n",
      "Traceback (most recent call last):\n",
      "  File \"/home/csstudent/anaconda3/lib/python3.11/site-packages/IPython/core/interactiveshell.py\", line 3526, in run_code\n",
      "    exec(code_obj, self.user_global_ns, self.user_ns)\n",
      "  File \"/tmp/ipykernel_5296/2569285754.py\", line 3, in <module>\n",
      "    self, data = kde_setup()\n",
      "                 ^^^^^^^^^^^\n",
      "  File \"/home/csstudent/Desktop/Files/srcpop/pylib/ml_fit.py\", line 819, in kde_setup\n",
      "    apply_kde(self, dfc, kde_vars)\n",
      "  File \"/home/csstudent/Desktop/Files/srcpop/pylib/ml_fit.py\", line 759, in apply_kde\n",
      "    u = gde(df)\n",
      "        ^^^\n",
      "UnboundLocalError: cannot access local variable 'gde' where it is not associated with a value\n",
      "\n",
      "During handling of the above exception, another exception occurred:\n",
      "\n",
      "Traceback (most recent call last):\n",
      "  File \"/home/csstudent/anaconda3/lib/python3.11/site-packages/IPython/core/interactiveshell.py\", line 2120, in showtraceback\n",
      "    stb = self.InteractiveTB.structured_traceback(\n",
      "          ^^^^^^^^^^^^^^^^^^^^^^^^^^^^^^^^^^^^^^^^\n",
      "  File \"/home/csstudent/anaconda3/lib/python3.11/site-packages/IPython/core/ultratb.py\", line 1435, in structured_traceback\n",
      "    return FormattedTB.structured_traceback(\n",
      "           ^^^^^^^^^^^^^^^^^^^^^^^^^^^^^^^^^\n",
      "  File \"/home/csstudent/anaconda3/lib/python3.11/site-packages/IPython/core/ultratb.py\", line 1326, in structured_traceback\n",
      "    return VerboseTB.structured_traceback(\n",
      "           ^^^^^^^^^^^^^^^^^^^^^^^^^^^^^^^\n",
      "  File \"/home/csstudent/anaconda3/lib/python3.11/site-packages/IPython/core/ultratb.py\", line 1173, in structured_traceback\n",
      "    formatted_exception = self.format_exception_as_a_whole(etype, evalue, etb, number_of_lines_of_context,\n",
      "                          ^^^^^^^^^^^^^^^^^^^^^^^^^^^^^^^^^^^^^^^^^^^^^^^^^^^^^^^^^^^^^^^^^^^^^^^^^^^^^^^^\n",
      "  File \"/home/csstudent/anaconda3/lib/python3.11/site-packages/IPython/core/ultratb.py\", line 1088, in format_exception_as_a_whole\n",
      "    frames.append(self.format_record(record))\n",
      "                  ^^^^^^^^^^^^^^^^^^^^^^^^^^\n",
      "  File \"/home/csstudent/anaconda3/lib/python3.11/site-packages/IPython/core/ultratb.py\", line 970, in format_record\n",
      "    frame_info.lines, Colors, self.has_colors, lvals\n",
      "    ^^^^^^^^^^^^^^^^\n",
      "  File \"/home/csstudent/anaconda3/lib/python3.11/site-packages/IPython/core/ultratb.py\", line 792, in lines\n",
      "    return self._sd.lines\n",
      "           ^^^^^^^^^^^^^^\n",
      "  File \"/home/csstudent/anaconda3/lib/python3.11/site-packages/stack_data/utils.py\", line 145, in cached_property_wrapper\n",
      "    value = obj.__dict__[self.func.__name__] = self.func(obj)\n",
      "                                               ^^^^^^^^^^^^^^\n",
      "  File \"/home/csstudent/anaconda3/lib/python3.11/site-packages/stack_data/core.py\", line 698, in lines\n",
      "    pieces = self.included_pieces\n",
      "             ^^^^^^^^^^^^^^^^^^^^\n",
      "  File \"/home/csstudent/anaconda3/lib/python3.11/site-packages/stack_data/utils.py\", line 145, in cached_property_wrapper\n",
      "    value = obj.__dict__[self.func.__name__] = self.func(obj)\n",
      "                                               ^^^^^^^^^^^^^^\n",
      "  File \"/home/csstudent/anaconda3/lib/python3.11/site-packages/stack_data/core.py\", line 649, in included_pieces\n",
      "    pos = scope_pieces.index(self.executing_piece)\n",
      "                             ^^^^^^^^^^^^^^^^^^^^\n",
      "  File \"/home/csstudent/anaconda3/lib/python3.11/site-packages/stack_data/utils.py\", line 145, in cached_property_wrapper\n",
      "    value = obj.__dict__[self.func.__name__] = self.func(obj)\n",
      "                                               ^^^^^^^^^^^^^^\n",
      "  File \"/home/csstudent/anaconda3/lib/python3.11/site-packages/stack_data/core.py\", line 628, in executing_piece\n",
      "    return only(\n",
      "           ^^^^^\n",
      "  File \"/home/csstudent/anaconda3/lib/python3.11/site-packages/executing/executing.py\", line 164, in only\n",
      "    raise NotOneValueFound('Expected one value, found 0')\n",
      "executing.executing.NotOneValueFound: Expected one value, found 0\n"
     ]
    }
   ],
   "source": [
    "%reset -f\n",
    "%run pylib/ml_fit dark\n",
    "self, data = kde_setup()\n",
    "\n",
    "from pylib.kde import FeatureSpace\n",
    "fs = FeatureSpace.runit(data, dark_mode, self.palette)\n"
   ]
  },
  {
   "cell_type": "code",
   "execution_count": null,
   "id": "0eb260e5-65a5-4e5c-bc8c-496d0485de58",
   "metadata": {},
   "outputs": [],
   "source": []
  },
  {
   "cell_type": "code",
   "execution_count": null,
   "id": "2966d8ec-810c-40c2-a3d7-02c14a82178d",
   "metadata": {},
   "outputs": [],
   "source": []
  }
 ],
 "metadata": {
  "kernelspec": {
   "display_name": "Python 3 (ipykernel)",
   "language": "python",
   "name": "python3"
  },
  "language_info": {
   "codemirror_mode": {
    "name": "ipython",
    "version": 3
   },
   "file_extension": ".py",
   "mimetype": "text/x-python",
   "name": "python",
   "nbconvert_exporter": "python",
   "pygments_lexer": "ipython3",
   "version": "3.11.5"
  }
 },
 "nbformat": 4,
 "nbformat_minor": 5
}
